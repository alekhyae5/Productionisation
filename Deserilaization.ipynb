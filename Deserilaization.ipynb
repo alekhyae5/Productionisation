{
 "cells": [
  {
   "cell_type": "markdown",
   "id": "3ef28ea8",
   "metadata": {},
   "source": [
    "**Deserialization**"
   ]
  },
  {
   "cell_type": "code",
   "execution_count": 1,
   "id": "90de85c2",
   "metadata": {},
   "outputs": [],
   "source": [
    "import numpy as np\n",
    "from pickle import load"
   ]
  },
  {
   "cell_type": "code",
   "execution_count": 2,
   "id": "37b329d0",
   "metadata": {},
   "outputs": [],
   "source": [
    "ohe=load(open('models/ohe.pkl', 'rb'))\n",
    "std=load(open('models/std.pkl', 'rb'))\n",
    "lr=load(open('models/lr_model.pkl', 'rb'))\n",
    "dt=load(open('models/dt_model.pkl', 'rb'))\n",
    "svr=load(open('models/svr_model.pkl', 'rb'))\n",
    "rf=load(open('models/rf_model.pkl', 'rb'))\n",
    "grb=load(open('models/grb_model.pkl', 'rb'))\n",
    "ada=load(open('models/ada_model.pkl', 'rb'))"
   ]
  },
  {
   "cell_type": "code",
   "execution_count": 4,
   "id": "ba3357f2",
   "metadata": {},
   "outputs": [
    {
     "name": "stdout",
     "output_type": "stream",
     "text": [
      "Enter Gender(Male or Female) = Male\n",
      "Enter Day of the Week(Thur, Fri, Sat, Sun) = Sat\n",
      "Enter Meal time(Lunch or Dinner) = Dinner\n",
      "Enter whether the customer smoke(Yes or No) = No\n",
      "Enter the total bill = 26.88\n",
      "Enter Size of the Table = 3\n"
     ]
    }
   ],
   "source": [
    "sex=input(\"Enter Gender(Male or Female) = \")\n",
    "day=input(\"Enter Day of the Week(Thur, Fri, Sat, Sun) = \")\n",
    "time=input(\"Enter Meal time(Lunch or Dinner) = \")\n",
    "smoker=input(\"Enter whether the customer smoke(Yes or No) = \")\n",
    "total_bill=float(input(\"Enter the total bill = \"))\n",
    "size=int(input(\"Enter Size of the Table = \"))"
   ]
  },
  {
   "cell_type": "code",
   "execution_count": 9,
   "id": "74cd5e48",
   "metadata": {},
   "outputs": [
    {
     "data": {
      "text/html": [
       "<div>\n",
       "<style scoped>\n",
       "    .dataframe tbody tr th:only-of-type {\n",
       "        vertical-align: middle;\n",
       "    }\n",
       "\n",
       "    .dataframe tbody tr th {\n",
       "        vertical-align: top;\n",
       "    }\n",
       "\n",
       "    .dataframe thead th {\n",
       "        text-align: right;\n",
       "    }\n",
       "</style>\n",
       "<table border=\"1\" class=\"dataframe\">\n",
       "  <thead>\n",
       "    <tr style=\"text-align: right;\">\n",
       "      <th></th>\n",
       "      <th>sex</th>\n",
       "      <th>day</th>\n",
       "      <th>time</th>\n",
       "      <th>smoker</th>\n",
       "      <th>total_bill</th>\n",
       "      <th>size</th>\n",
       "    </tr>\n",
       "  </thead>\n",
       "  <tbody>\n",
       "    <tr>\n",
       "      <th>0</th>\n",
       "      <td>Male</td>\n",
       "      <td>Sat</td>\n",
       "      <td>Dinner</td>\n",
       "      <td>No</td>\n",
       "      <td>26.88</td>\n",
       "      <td>3</td>\n",
       "    </tr>\n",
       "  </tbody>\n",
       "</table>\n",
       "</div>"
      ],
      "text/plain": [
       "    sex  day    time smoker  total_bill  size\n",
       "0  Male  Sat  Dinner     No       26.88     3"
      ]
     },
     "execution_count": 9,
     "metadata": {},
     "output_type": "execute_result"
    }
   ],
   "source": [
    "import pandas as pd\n",
    "data=pd.DataFrame({\"sex\":[sex],\"day\":[day], \"time\":[time],\"smoker\":[smoker],\"total_bill\":[total_bill],\"size\":[size]})\n",
    "data"
   ]
  },
  {
   "cell_type": "code",
   "execution_count": 10,
   "id": "a3c4f767",
   "metadata": {},
   "outputs": [
    {
     "data": {
      "text/plain": [
       "array([[ 0.        ,  0.        ,  0.        ,  0.        ,  0.        ,\n",
       "         0.        ,  0.        ,  0.        ,  0.        ,  0.        ,\n",
       "        26.88      ,  0.43284366]])"
      ]
     },
     "execution_count": 10,
     "metadata": {},
     "output_type": "execute_result"
    }
   ],
   "source": [
    "cat_col=['sex','smoker','day','time']\n",
    "num_col=['total_bill','size']\n",
    "cat_col_tf=ohe.transform(data[cat_col]).toarray()\n",
    "num_col_tf=std.transform(data[num_col])\n",
    "data_tf=np.hstack((cat_col_tf,num_col_tf))\n",
    "data_tf"
   ]
  },
  {
   "cell_type": "code",
   "execution_count": 14,
   "id": "304181a1",
   "metadata": {},
   "outputs": [
    {
     "name": "stdout",
     "output_type": "stream",
     "text": [
      "The tip is 6.73\n"
     ]
    }
   ],
   "source": [
    "prediction=ada.predict(data_tf)[0].round(2)\n",
    "print(\"The tip is\",prediction)"
   ]
  },
  {
   "cell_type": "code",
   "execution_count": null,
   "id": "a66372ac",
   "metadata": {},
   "outputs": [],
   "source": []
  }
 ],
 "metadata": {
  "kernelspec": {
   "display_name": "Python 3 (ipykernel)",
   "language": "python",
   "name": "python3"
  },
  "language_info": {
   "codemirror_mode": {
    "name": "ipython",
    "version": 3
   },
   "file_extension": ".py",
   "mimetype": "text/x-python",
   "name": "python",
   "nbconvert_exporter": "python",
   "pygments_lexer": "ipython3",
   "version": "3.9.13"
  }
 },
 "nbformat": 4,
 "nbformat_minor": 5
}
